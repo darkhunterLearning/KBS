{
 "cells": [
  {
   "cell_type": "code",
   "execution_count": 99,
   "id": "floating-murray",
   "metadata": {},
   "outputs": [],
   "source": [
    "#pip install mysql-connector-python nếu chưa có nhé các GS \n",
    "import mysql.connector\n",
    "import re\n",
    "import string"
   ]
  },
  {
   "cell_type": "code",
   "execution_count": 100,
   "id": "built-marathon",
   "metadata": {},
   "outputs": [],
   "source": [
    "class Query_Db:\n",
    "    def __init__(self):\n",
    "        #fix lại host và user tương ứng trên máy các GS nhé, Lưu ý: cần phải chạy XAMPP trước mới chạy đc\n",
    "        self.mydb = mysql.connector.connect(\n",
    "          host=\"localhost\",\n",
    "          user=\"root\",\n",
    "          database=\"kbs\"\n",
    "        )\n",
    "        self.mycursor = self.mydb.cursor()\n",
    "        self.STOPWORDS = []\n",
    "        with open(\"D:/HCMUE/KBS/database/vietnamese-stopwords.txt\", encoding=\"utf8\") as file:\n",
    "            for line in file: \n",
    "                line = line.strip() \n",
    "                self.STOPWORDS.append(line) \n",
    "        punctuations = string.punctuation\n",
    "        self.punctuations_list = punctuations\n",
    "        \n",
    "    # Xóa email VD: zxcxzcads @gmail.com -> zxcxzcads   \n",
    "    def cleaning_email(self, text):\n",
    "        return re.sub('@[^\\s]+', ' ', text)    \n",
    "    \n",
    "    # Xóa các ký tự đặc biệt và dấu câu VD: Mùa thu năm ấy, tôi 7 nghiệp! -> Mùa thu năm ấy tôi 7 nghiệp\n",
    "    def cleaning_punctuations(self, text):\n",
    "        translator = str.maketrans('', '', self.punctuations_list)\n",
    "        return text.translate(translator)\n",
    "    \n",
    "    # Xóa các từ dư thừa được lưu trong file \"vietnamese-stopwords.txt\" các GS có thể mở lên check VD: Ủa a lô K45 -> K45\n",
    "    def cleaning_stopwords(self, text):\n",
    "        return \" \".join([word for word in str(text).split() if word not in self.STOPWORDS])\n",
    "    \n",
    "    def preprocess_input(self, text):\n",
    "        text = cleaning_email(text)\n",
    "        text = cleaning_punctuations(text)\n",
    "        text = cleaning_stopwords(text, self.STOPWORDS)\n",
    "        return text\n",
    "    \n",
    "    def query_db(self, x):\n",
    "        try:\n",
    "            my_result = []\n",
    "            query = f\"SELECT lesson_detail.Content FROM lesson_detail WHERE lesson_detail.Name LIKE '%{x}%' OR lesson_detail.Content LIKE '%{x}%'\"\n",
    "            mycursor.execute(query)\n",
    "            result = mycursor.fetchall()\n",
    "            for x in result:\n",
    "                my_result.append(x)\n",
    "            if len(my_result) > 0:\n",
    "                return my_result\n",
    "            else:\n",
    "                return 'Thông tin này hiện chưa có!'\n",
    "        except:\n",
    "            return '404'"
   ]
  },
  {
   "cell_type": "code",
   "execution_count": 101,
   "id": "several-villa",
   "metadata": {},
   "outputs": [],
   "source": [
    "my_query = Query_Db()"
   ]
  },
  {
   "cell_type": "code",
   "execution_count": 108,
   "id": "scenic-african",
   "metadata": {},
   "outputs": [],
   "source": [
    "x = 'ủa cổ điển là gì @gmail.com ???'"
   ]
  },
  {
   "cell_type": "code",
   "execution_count": 109,
   "id": "stopped-logging",
   "metadata": {},
   "outputs": [],
   "source": [
    "x = my_query.preprocess_input(x)"
   ]
  },
  {
   "cell_type": "code",
   "execution_count": 110,
   "id": "recognized-motor",
   "metadata": {},
   "outputs": [
    {
     "data": {
      "text/plain": [
       "[('Cho một phép thử với n kết cục đồng khả\\r\\nnăng, trong đó có m kết cục thuận lợi cho A, khi đó\\r\\n\\r\\nP(A)=\\\\frac{m}{n}=\\\\frac{\\\\text{số kết cục thuận lợi cho A}}{\\\\text{tổng số kết cục có thể}}\\r\\n\\r\\nĐịnh nghĩa trên được gọi là định nghĩa cổ điển của xác suất. Cách tính xác suất theo (2.1) có ưu điểm là tương đối đơn\\r\\ngiản và trực quan, tuy nhiên phạm vi áp dụng rất hạn chê chỉ cho các loại phép thử gồm hữu hạn kết cục đồng khả năng.\\r\\nTrong tính toán thường sử dụng các kết quả (1.1) - (1.4).\\r\\n',),\n",
       " ('Điều kiện đồng khả năng của các kết cục một phép thử không phải lúc nào cũng được bảo đảm. Có nhiều hiện tượng xảy ra không theo các yêu cầu của định nghĩa cổ điển, chẳng hạn khi tính xác suất một đứa trẻ sắp sinh là con trai, ngày mai trời mưa vào lúc chính ngọ, v.v...\\r\\nCó một cách khác để xác định xác suất của một sự kiện. Giả sử tiến hành một loạt n_{1} phép thử cùng loại, nếu sự kiện A nào đó xuất hiện trong m_{1} phép thử thì ta gọi m_{1}/n_{1}, là tần suất xuất hiện A trong loạt phép thử đã cho. Tương tự với loại phép thử thứ hai, thứ ba... ta có các tần suất tương ứng m_{2}/n_{2}, m_{3}/n_{3},...\\r\\nTrên cơ sở quan sát lâu dài các thí nghiệm khác nhau người ta nhận thấy tần suất xuất hiện một sự kiện có tính ổn định, thay đổi rất ít trong các loạt phép thử khác nhau và dao động xung quanh một hằng số xác định. Sự khác biệt đó càng ít khi số phép thử tăng nhiều lên. Hơn nữa đối với các phép thử xét ở\\r\\nmục 2.1 hằng sô\" xác định đó trùng vối xác suất theo định nghĩa cổ điển. Đặc tính ổn định của tần suất khi số phép thử tăng lên khá lớn cho phép ta định nghía xác suất của sự kiện là trị số ổn định đó của tần suất xuất hiện sự kiện. Nhưng do hằng số đó chưa biết, nên người ta lấy ngay tần suất khi số phép thử đủ lớn làm xác suất của sự kiện. Cách hiểu như vậy được gọi là định nghĩa thống kê của xác suất.',),\n",
       " ('Các định nghĩa cổ điển và thống kê của xác suất có nhiều hạn chế để xây dựng một lý thuyết tổng quát. Khái niệm cổ điển không dùng được trong trường hợp không thể xây dựng một hệ thống đầy đủ các sự kiện đồng khả năng. Trong khi đó, tần suất chỉ là một giá trị xấp xỉ để đánh giá xác suất, chưa kể đòi hỏi là số quan sát phải rất lớn và giá trị tần suất tìm được phải lớn hơn nhiều sai số đo và cả sai số tính toán.\\r\\nChúng ta bắt đầu từ hệ thống các tiên đề dưới dạng do Kôn-mô-gô-rôp phát biểu. Các tiên đề đó (giông như các tiên đề\\r\\ntoán học khác) được thừa nhận là đúng đắn, tất nhiên căn cứ vào kinh nghiệm cuộc sống và hoạt động thực tiễn. Cách tiếp cận này liên hệ chặt chẽ lý thuyết xác suất với lý thuyết hàm số và tập hợp. Cách xác định xác suất theo tiên đề sẽ chứa trong nó các định nghĩa cổ điển và thống kê của xác suất như là các trường hợp riêng.\\r\\nTa quay trở lại không gian các sự kiện sơ cấp Ω (xem §1), còn bản thân các phần tử là gì không quan trọng. Tiếp theo\\r\\nxác định hệ thống <i>A</i> các tập  con của Ω, các phần tử của <i>A</i> được gọi là các sự kiện ngẫu nhiên. Ta đặt cho <i>A</i> các yêu cầu hợp lý sau:\\r\\n(i) <i>A</i> chứa Ω\\r\\n(ii) Nếu A và B ∈ <i>A</i> thì A̅,B̅, A+B ∈ <i>A</i>\\r\\nHệ thống <i>A</i> thỏa mãn các điều kiện trên được gọi là đại số <i>Bun</i>. \\r\\nTa gọi xác suất trên (Ω, <i>A</i>) là một hàm số xác định trên <i>A</i> có giá trị trong [0; 1] và thỏa mãn 3 tiên đề\\r\\n(T1)P(Ω) = l;\\r\\n(T2)P(A + B) = P(A) + P(B) (A, B xung khắc);\\r\\n(T3)Nếu dãy A_{n} có tính chất A_{j} => A_{i}, ∀ i \\\\leqslant j và\\r\\nA_{1}A_{2}...A_{n}=V, thì P(A_{n})\\\\longrightarrow 0\\r\\n(T4)Nếu dãy A_{n} có tính chất xung khắc từng đôi và\\r\\nA=\\\\sum_{n=1}^{\\\\infty }A_{n}\\\\in <i>A</i> thì P(A)=P(A_{1})+P(A_{+2})+...+P(A_{n})=\\\\sum_{n=1}^{\\\\infty }P(A_{n})\\r\\nTổ hợp {Ω, <i>A</i>, P} sau này thường được gọi là không gian xác suất.',)]"
      ]
     },
     "execution_count": 110,
     "metadata": {},
     "output_type": "execute_result"
    }
   ],
   "source": [
    "my_query.query_db(x)"
   ]
  }
 ],
 "metadata": {
  "kernelspec": {
   "display_name": "Python 3",
   "language": "python",
   "name": "python3"
  },
  "language_info": {
   "codemirror_mode": {
    "name": "ipython",
    "version": 3
   },
   "file_extension": ".py",
   "mimetype": "text/x-python",
   "name": "python",
   "nbconvert_exporter": "python",
   "pygments_lexer": "ipython3",
   "version": "3.7.10"
  }
 },
 "nbformat": 4,
 "nbformat_minor": 5
}
