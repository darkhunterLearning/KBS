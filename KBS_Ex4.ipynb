{
 "cells": [
  {
   "cell_type": "code",
   "execution_count": 1,
   "metadata": {},
   "outputs": [],
   "source": [
    "from sympy.solvers import solve\n",
    "from sympy import Symbol\n",
    "import math\n",
    "import numpy as np\n",
    "pi = 180 # degrees "
   ]
  },
  {
   "cell_type": "code",
   "execution_count": 2,
   "metadata": {},
   "outputs": [],
   "source": [
    "x = Symbol('x')"
   ]
  },
  {
   "cell_type": "code",
   "execution_count": 3,
   "metadata": {},
   "outputs": [],
   "source": [
    "alpha = 30\n",
    "beta = 60\n",
    "delta = x"
   ]
  },
  {
   "cell_type": "code",
   "execution_count": 4,
   "metadata": {},
   "outputs": [
    {
     "data": {
      "text/plain": [
       "[13.8564064605510]"
      ]
     },
     "execution_count": 4,
     "metadata": {},
     "output_type": "execute_result"
    }
   ],
   "source": [
    "solve((8/math.sin(math.radians(alpha))) - (x/math.sin(math.radians(beta))), x)\n"
   ]
  },
  {
   "cell_type": "code",
   "execution_count": 5,
   "metadata": {},
   "outputs": [],
   "source": [
    "class Semantic_Tri:\n",
    "    def __init__(self, alpha=0, beta=0, delta=0, a=0, b=0, c=0, S=0, h=0):\n",
    "        self.alpha = alpha\n",
    "        self.beta = beta\n",
    "        self.delta = delta\n",
    "        self.a = a\n",
    "        self.b = b\n",
    "        self.c = c\n",
    "        self.S = S\n",
    "        self.h = h\n",
    "        self.map = enumerate([alpha, beta, delta, a, b, c, S, h])\n",
    "        \n",
    "        # Cài đặt mạng ngữ nghĩa với số dòng <=> yếu tố của tam giác (đỉnh hình tròn)\n",
    "        # số cột <=> công thức (đỉnh hình chữ nhật) => ma trận 8x5 theo bài 1 \n",
    "        \n",
    "        self.semantic_matrix = np.zeros((8, 5), dtype=int)\n",
    "        idx = [(0, 0), (0, 3), \n",
    "               (1, 0), (1, 1), (1, 3),\n",
    "               (2, 1), (2, 3),\n",
    "               (3, 0), (3, 2),\n",
    "               (4, 0), (4, 1), (4, 2),\n",
    "               (5, 1), (5, 2), (5, 4),\n",
    "               (6, 2), (6, 4),\n",
    "               (7, 4)]\n",
    "        for i, j in idx:\n",
    "            self.semantic_matrix[i][j] = -1"
   ]
  },
  {
   "cell_type": "code",
   "execution_count": 26,
   "metadata": {},
   "outputs": [
    {
     "data": {
      "text/plain": [
       "array([[-1,  0,  0, -1,  0],\n",
       "       [-1, -1,  0, -1,  0],\n",
       "       [ 0, -1,  0, -1,  0],\n",
       "       [-1,  0, -1,  0,  0],\n",
       "       [-1, -1, -1,  0,  0],\n",
       "       [ 0, -1, -1,  0, -1],\n",
       "       [ 0,  0, -1,  0, -1],\n",
       "       [ 0,  0,  0,  0, -1]])"
      ]
     },
     "execution_count": 26,
     "metadata": {},
     "output_type": "execute_result"
    }
   ],
   "source": [
    "test = Semantic_Tri()\n",
    "test.semantic_matrix"
   ]
  },
  {
   "cell_type": "code",
   "execution_count": 7,
   "metadata": {},
   "outputs": [],
   "source": [
    "# Thao tác “kích hoạt” một đỉnh hình tròn, ta đặt giá trị của toàn dòng ứng với yếu tố tam giác bằng 1.\n",
    "def getMatrix(s=Semantic_Tri):\n",
    "    for c, ele in s.map:\n",
    "        if(ele != 0):\n",
    "            for j in range(5):\n",
    "                if s.semantic_matrix[c][j] == -1:\n",
    "                    s.semantic_matrix[c][j]= 1\n",
    "    return s.semantic_matrix"
   ]
  },
  {
   "cell_type": "code",
   "execution_count": 68,
   "metadata": {},
   "outputs": [],
   "source": [
    "def is_activate(row_array):\n",
    "    for i in range(5):\n",
    "        if row_array[i] == -1:\n",
    "            return False\n",
    "    return True"
   ]
  },
  {
   "cell_type": "code",
   "execution_count": 69,
   "metadata": {},
   "outputs": [],
   "source": [
    "def get_known_ele(col_array, idx):\n",
    "    return np.where(col_array[:,idx] == 1)"
   ]
  },
  {
   "cell_type": "code",
   "execution_count": null,
   "metadata": {},
   "outputs": [],
   "source": [
    "def heron()"
   ]
  },
  {
   "cell_type": "code",
   "execution_count": 70,
   "metadata": {},
   "outputs": [],
   "source": [
    "def get_unk_el(col_array, idx):\n",
    "    return np.where(col_array[:,idx] == -1)[0][0].astype(int)"
   ]
  },
  {
   "cell_type": "code",
   "execution_count": 92,
   "metadata": {},
   "outputs": [],
   "source": [
    "def solution(goal='h'):\n",
    "    s = Semantic_Tri(alpha=30, beta=60, a=8)\n",
    "    #s = Semantic_Tri(alpha=30, beta=60)\n",
    "    t = getMatrix(s)\n",
    "    goal_map = ['alpha', 'beta', 'delta', 'a', 'b', 'c', 'S', 'h']\n",
    "    goal_idx = goal_map.index(goal)\n",
    "    \n",
    "    stuck = False # Xử lí nếu thuật toán không đến đích\n",
    "    \n",
    "    print(\"goal_idx:\", goal_idx, \"goal_label:\", goal_map[goal_idx])\n",
    "    print(t)\n",
    "    print(\"-------------------\")\n",
    "    \n",
    "    while not stuck:\n",
    "        stuck = True\n",
    "        for k in range(5):\n",
    "            print(\"k: \" + str(k))\n",
    "            idx_pos = np.where(t[:,k] == 1)\n",
    "            pos = np.sum(np.take(t[:,k], idx_pos)) # yếu tố đã biết\n",
    "            idx_neg = np.where(t[:,k] == -1)\n",
    "            neg = np.sum(np.take(t[:,k], idx_neg)) # yếu tố chưa biết\n",
    "            if np.count_nonzero(t[:,k]) - pos == 1: # điều kiện để kích hoạt yếu tố chưa biết: tổng các yếu tố - đã biết = 1 <=> chưa biết\n",
    "                idx = get_unk_el(t, k)\n",
    "                print(\"idx: \" + str(idx), \"label:\" + goal_map[idx])\n",
    "                # Kích hoạt: thay -1 trên dòng thành 1\n",
    "                stuck = False\n",
    "                for i in range(5):\n",
    "                    if t[idx][i] == -1:\n",
    "                        t[idx][i] = 1\n",
    "                print(t)\n",
    "            if is_activate(t[goal_idx,:]):\n",
    "                stuck = True # True: tới đích thì dừng, False: đi tiếp cho tới khi tìm được kết quả\n",
    "                print(\"Goal reached!\")\n",
    "                break"
   ]
  },
  {
   "cell_type": "code",
   "execution_count": 93,
   "metadata": {},
   "outputs": [
    {
     "name": "stdout",
     "output_type": "stream",
     "text": [
      "goal_idx: 5 goal_label: c\n",
      "[[ 1  0  0  1  0]\n",
      " [ 1  1  0  1  0]\n",
      " [ 0 -1  0 -1  0]\n",
      " [ 1  0  1  0  0]\n",
      " [-1 -1 -1  0  0]\n",
      " [ 0 -1 -1  0 -1]\n",
      " [ 0  0 -1  0 -1]\n",
      " [ 0  0  0  0 -1]]\n",
      "-------------------\n",
      "k: 0\n",
      "idx: 4 label:b\n",
      "[[ 1  0  0  1  0]\n",
      " [ 1  1  0  1  0]\n",
      " [ 0 -1  0 -1  0]\n",
      " [ 1  0  1  0  0]\n",
      " [ 1  1  1  0  0]\n",
      " [ 0 -1 -1  0 -1]\n",
      " [ 0  0 -1  0 -1]\n",
      " [ 0  0  0  0 -1]]\n",
      "k: 1\n",
      "k: 2\n",
      "k: 3\n",
      "idx: 2 label:delta\n",
      "[[ 1  0  0  1  0]\n",
      " [ 1  1  0  1  0]\n",
      " [ 0  1  0  1  0]\n",
      " [ 1  0  1  0  0]\n",
      " [ 1  1  1  0  0]\n",
      " [ 0 -1 -1  0 -1]\n",
      " [ 0  0 -1  0 -1]\n",
      " [ 0  0  0  0 -1]]\n",
      "k: 4\n",
      "k: 0\n",
      "k: 1\n",
      "idx: 5 label:c\n",
      "[[ 1  0  0  1  0]\n",
      " [ 1  1  0  1  0]\n",
      " [ 0  1  0  1  0]\n",
      " [ 1  0  1  0  0]\n",
      " [ 1  1  1  0  0]\n",
      " [ 0  1  1  0  1]\n",
      " [ 0  0 -1  0 -1]\n",
      " [ 0  0  0  0 -1]]\n",
      "Goal reached!\n"
     ]
    }
   ],
   "source": [
    "solution('c')"
   ]
  },
  {
   "cell_type": "code",
   "execution_count": null,
   "metadata": {},
   "outputs": [],
   "source": []
  },
  {
   "cell_type": "code",
   "execution_count": null,
   "metadata": {},
   "outputs": [],
   "source": []
  }
 ],
 "metadata": {
  "kernelspec": {
   "display_name": "Python 3",
   "language": "python",
   "name": "python3"
  },
  "language_info": {
   "codemirror_mode": {
    "name": "ipython",
    "version": 3
   },
   "file_extension": ".py",
   "mimetype": "text/x-python",
   "name": "python",
   "nbconvert_exporter": "python",
   "pygments_lexer": "ipython3",
   "version": "3.8.3"
  }
 },
 "nbformat": 4,
 "nbformat_minor": 5
}
